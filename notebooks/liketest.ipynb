{
 "cells": [
  {
   "cell_type": "code",
   "execution_count": 13,
   "id": "00f7e0a8-7ec2-4166-8226-2aa71f7c7605",
   "metadata": {},
   "outputs": [
    {
     "name": "stdin",
     "output_type": "stream",
     "text": [
      " breast_cancer_model_Wis.h5\n"
     ]
    },
    {
     "name": "stdout",
     "output_type": "stream",
     "text": [
      "1/1 [==============================] - 0s 45ms/step\n",
      "Likelihood of breast cancer: 17.41 %\n"
     ]
    }
   ],
   "source": [
    "import tensorflow as tf\n",
    "from sklearn.preprocessing import StandardScaler\n",
    "from sklearn.datasets import load_breast_cancer\n",
    "\n",
    "# Load the breast cancer dataset\n",
    "data = load_breast_cancer()\n",
    "X = data.data\n",
    "y = data.target\n",
    "\n",
    "# Load the saved model\n",
    "loaded_model = tf.keras.models.load_model(input())\n",
    "\n",
    "# Scale the input features\n",
    "scaler = StandardScaler()\n",
    "X_scaled = scaler.fit_transform(X)\n",
    "\n",
    "# Select a sample for prediction (here we use the first sample in the dataset)\n",
    "sample = X_scaled[0]\n",
    "\n",
    "# Reshape the sample to match the input shape of the model\n",
    "sample = sample.reshape(1, -1)\n",
    "\n",
    "# Predict the likelihood of breast cancer\n",
    "prediction = loaded_model.predict(sample)[0][0]\n",
    "\n",
    "# Convert the prediction to a percentage\n",
    "percentage = round(prediction * 100, 2)\n",
    "\n",
    "# Display the result\n",
    "print(\"Likelihood of breast cancer:\", percentage, \"%\")"
   ]
  },
  {
   "cell_type": "code",
   "execution_count": null,
   "id": "cc9df754-ff74-4217-85be-f8cb841c93fb",
   "metadata": {},
   "outputs": [],
   "source": []
  },
  {
   "cell_type": "code",
   "execution_count": null,
   "id": "8132aeb4-3867-41eb-b37e-9386d4b55f60",
   "metadata": {},
   "outputs": [],
   "source": []
  },
  {
   "cell_type": "code",
   "execution_count": null,
   "id": "56f66b5d-85c6-487e-850b-69ae14dba9c4",
   "metadata": {},
   "outputs": [],
   "source": []
  }
 ],
 "metadata": {
  "kernelspec": {
   "display_name": "Python 3 (ipykernel)",
   "language": "python",
   "name": "python3"
  },
  "language_info": {
   "codemirror_mode": {
    "name": "ipython",
    "version": 3
   },
   "file_extension": ".py",
   "mimetype": "text/x-python",
   "name": "python",
   "nbconvert_exporter": "python",
   "pygments_lexer": "ipython3",
   "version": "3.10.9"
  }
 },
 "nbformat": 4,
 "nbformat_minor": 5
}
