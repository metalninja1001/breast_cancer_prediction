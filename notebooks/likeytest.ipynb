import tensorflow as tf
from sklearn.preprocessing import StandardScaler
from sklearn.datasets import load_breast_cancer

# Load the breast cancer dataset
data = load_breast_cancer()
X = data.data
y = data.target

# Load the saved model
loaded_model = tf.keras.models.load_model(input())

# Scale the input features
scaler = StandardScaler()
X_scaled = scaler.fit_transform(X)

# Select a sample for prediction (here we use the first sample in the dataset)
sample = X_scaled[0]

# Reshape the sample to match the input shape of the model
sample = sample.reshape(1, -1)

# Predict the likelihood of breast cancer
prediction = loaded_model.predict(sample)[0][0]

# Convert the prediction to a percentage
percentage = round(prediction * 100, 2)

# Display the result
print("Likelihood of breast cancer:", percentage, "%")
